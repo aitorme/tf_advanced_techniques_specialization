{
 "cells": [
  {
   "cell_type": "code",
   "execution_count": 1,
   "id": "453e1bed",
   "metadata": {},
   "outputs": [
    {
     "name": "stderr",
     "output_type": "stream",
     "text": [
      "2023-03-29 09:12:28.315749: I tensorflow/core/platform/cpu_feature_guard.cc:182] This TensorFlow binary is optimized to use available CPU instructions in performance-critical operations.\n",
      "To enable the following instructions: AVX2 FMA, in other operations, rebuild TensorFlow with the appropriate compiler flags.\n"
     ]
    }
   ],
   "source": [
    "import tensorflow as tf\n",
    "from tensorflow.keras import Sequential, layers\n"
   ]
  },
  {
   "cell_type": "code",
   "execution_count": 2,
   "id": "f6401aba",
   "metadata": {},
   "outputs": [],
   "source": [
    "seq_model = Sequential([\n",
    "    layers.Flatten(input_shape=(28,28)),\n",
    "    layers.Dense(128, activation='relu'),\n",
    "    layers.Dense(10, activation='softmax')\n",
    "    \n",
    "])"
   ]
  },
  {
   "cell_type": "markdown",
   "id": "699a2d88",
   "metadata": {},
   "source": [
    "In a **functional API** layout, we follow the next 3 steps in order to define our model:\n",
    " - 1) Input: define input to the model\n",
    " - 2) Layers: define a set of interconnected layers on the input\n",
    " - 3) Model: define the model using the input and output layers"
   ]
  },
  {
   "cell_type": "code",
   "execution_count": 3,
   "id": "1ed3a955",
   "metadata": {},
   "outputs": [],
   "source": [
    "from tensorflow.keras.layers import Input"
   ]
  },
  {
   "cell_type": "code",
   "execution_count": 4,
   "id": "b491e66a",
   "metadata": {},
   "outputs": [],
   "source": [
    "input = Input(shape=(28,28))"
   ]
  },
  {
   "cell_type": "code",
   "execution_count": 5,
   "id": "3e38cd86",
   "metadata": {},
   "outputs": [],
   "source": [
    "from tensorflow.keras.layers import Flatten, Dense"
   ]
  },
  {
   "cell_type": "code",
   "execution_count": 6,
   "id": "3b24ed6d",
   "metadata": {},
   "outputs": [],
   "source": [
    "x = Flatten()(input)\n",
    "x = Dense(128, activation='relu')(x)\n",
    "predictions = Dense(10, activation='softmax')(x)"
   ]
  },
  {
   "cell_type": "code",
   "execution_count": 7,
   "id": "8320e627",
   "metadata": {},
   "outputs": [],
   "source": [
    "from tensorflow.keras.models import Model"
   ]
  },
  {
   "cell_type": "code",
   "execution_count": 8,
   "id": "4fe50afd",
   "metadata": {},
   "outputs": [],
   "source": [
    "func_model = Model(inputs = input, outputs = predictions)"
   ]
  }
 ],
 "metadata": {
  "kernelspec": {
   "display_name": "toelt_venv",
   "language": "python",
   "name": "toelt_venv"
  },
  "language_info": {
   "codemirror_mode": {
    "name": "ipython",
    "version": 3
   },
   "file_extension": ".py",
   "mimetype": "text/x-python",
   "name": "python",
   "nbconvert_exporter": "python",
   "pygments_lexer": "ipython3",
   "version": "3.8.2"
  }
 },
 "nbformat": 4,
 "nbformat_minor": 5
}
